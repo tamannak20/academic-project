{
  "nbformat": 4,
  "nbformat_minor": 0,
  "metadata": {
    "kernelspec": {
      "display_name": "Python 2",
      "language": "python",
      "name": "python2"
    },
    "language_info": {
      "codemirror_mode": {
        "name": "ipython",
        "version": 2
      },
      "file_extension": ".py",
      "mimetype": "text/x-python",
      "name": "python",
      "nbconvert_exporter": "python",
      "pygments_lexer": "ipython2",
      "version": "2.7.15"
    },
    "colab": {
      "provenance": [],
      "collapsed_sections": [
        "edESjYjreZ99",
        "jPnbtItPjndV",
        "M6gYsdiDjndi",
        "lj2tGq2ljndj",
        "FqQm-evZjndm",
        "Q5J4f7Wtjnd8",
        "E7wqIq9ljneN"
      ]
    }
  },
  "cells": [
    {
      "cell_type": "markdown",
      "metadata": {
        "id": "hwh4kU0DjncR"
      },
      "source": [
        "### Machine Learning using MNIST Dataset\n",
        "1. Dataset: https://www.kaggle.com/c/digit-recognizer/data\n",
        "---Download the dataset and upload the folder to your google drive\n",
        "2. Problem statement: Handwritten digit recognization (0-9)\n",
        "3. Type of problem: Classification, Supervised\n",
        "4. Data type: Images stored in csv file\n",
        "5. Performance Measures: Accuracy, Precision, Recall, Confusion Matrix\n",
        "6. Feature Importance: Not required\n",
        "7. Interpretability: We can provide nearest neighbors of the query image to justify why image is classified as 'this'"
      ]
    },
    {
      "cell_type": "code",
      "metadata": {
        "id": "GgNi0qnyj0kU",
        "colab": {
          "base_uri": "https://localhost:8080/",
          "height": 34
        },
        "outputId": "097be13b-dcae-46f4-f116-0b04f8cbfabe"
      },
      "source": [
        "#Connect to your google drive\n",
        "from google.colab import drive\n",
        "drive.mount('/gdrive')"
      ],
      "execution_count": null,
      "outputs": [
        {
          "output_type": "stream",
          "text": [
            "Mounted at /gdrive\n"
          ],
          "name": "stdout"
        }
      ]
    },
    {
      "cell_type": "code",
      "metadata": {
        "id": "70MwLzS7czJz",
        "colab": {
          "base_uri": "https://localhost:8080/",
          "height": 102
        },
        "outputId": "116f4c43-8298-469b-9b3d-4b724ec260d7"
      },
      "source": [
        "#checking the available files\n",
        "%cd /gdrive/My\\ Drive/digit-recognizer\n",
        "!ls -ltr\n"
      ],
      "execution_count": null,
      "outputs": [
        {
          "output_type": "stream",
          "text": [
            "/gdrive/My Drive/digit-recognizer\n",
            "total 125132\n",
            "-rw------- 1 root root 51118296 Dec 11  2019 test.csv\n",
            "-rw------- 1 root root   240909 Dec 11  2019 sample_submission.csv\n",
            "-rw------- 1 root root 76775041 Dec 11  2019 train.csv\n"
          ],
          "name": "stdout"
        }
      ]
    },
    {
      "cell_type": "markdown",
      "metadata": {
        "id": "jccb1GFkjncU"
      },
      "source": [
        "### Classification Algorithms:\n",
        "1. K-Nearest Neighbor\n",
        "2. Logistic Regression (one-vs-rest)\n",
        "3. SVM Classifier\n",
        "4. Decision Tree\n",
        "5. Random Forest\n",
        "6. XGBoost\n",
        "\n",
        "### Other Libraries:\n",
        "1. GridsearchCV for hyperparameter tuning\n",
        "2. randomsearchCV for hyperparameter tuning\n",
        "3. Reference Link: https://stackoverflow.com/questions/57426633/what-is-randomsearchcv-and-gridsearchcv"
      ]
    },
    {
      "cell_type": "markdown",
      "metadata": {
        "id": "PHr4QTPAjncX"
      },
      "source": [
        "#Data Visualization\n",
        "1. Principal Component Analysis\n",
        "2. t-SNE\n",
        "- Reference Link: https://www.datacamp.com/community/tutorials/introduction-t-sne"
      ]
    },
    {
      "cell_type": "markdown",
      "metadata": {
        "id": "k9EopxSfh0HC"
      },
      "source": [
        "#Import Library that going to require in this Tutorial"
      ]
    },
    {
      "cell_type": "code",
      "metadata": {
        "id": "_j-5pbnujncZ"
      },
      "source": [
        "import numpy as np\n",
        "import pandas as pd\n",
        "import matplotlib.pyplot as plt\n",
        "import matplotlib.patheffects as path_effects\n",
        "import seaborn as sns\n",
        "import random\n",
        "\n",
        "from tqdm import tqdm\n",
        "\n",
        "from sklearn.decomposition import PCA\n",
        "from sklearn.manifold import TSNE\n",
        "from sklearn.preprocessing import StandardScaler\n",
        "from sklearn import preprocessing\n",
        "from random import randint\n",
        "\n",
        "from sklearn.model_selection import train_test_split\n",
        "from sklearn.metrics import accuracy_score\n",
        "from sklearn.metrics import confusion_matrix\n",
        "\n",
        "from sklearn.model_selection import GridSearchCV\n",
        "from sklearn.model_selection import RandomizedSearchCV\n",
        "#from pactools.grid_search import GridSearchCVProgressBar\n",
        "\n",
        "from sklearn.multiclass import OneVsRestClassifier\n",
        "from sklearn.neighbors import KNeighborsClassifier\n",
        "from sklearn.svm import SVC\n",
        "from sklearn.linear_model import LogisticRegression\n",
        "from sklearn.tree import DecisionTreeClassifier\n",
        "from sklearn.ensemble import RandomForestClassifier\n",
        "from xgboost import XGBClassifier"
      ],
      "execution_count": null,
      "outputs": []
    },
    {
      "cell_type": "markdown",
      "metadata": {
        "id": "b3v6xRJajncj"
      },
      "source": [
        "#Read data from two files train.csv and test.csv\n",
        "1. train.csv file contains images (28 x 28) representaed as rows (784 dimensional) and a label as digit\n",
        "2. test.csv file contains images (28 x 28) representaed as rows (784 dimensional)\n",
        "3. sample_submission.csv is the file which contains test image number and corresponding predicted digit\n",
        "   Soultion is submitted in sample_submission.csv file"
      ]
    },
    {
      "cell_type": "code",
      "metadata": {
        "id": "15qSPxwzjncl"
      },
      "source": [
        "#%%timeit -n 10\n",
        "# 10 loops, best of 3: 7.07 s per loop\n",
        "mnist_train = pd.read_csv(\"train.csv\")\n",
        "mnist_test  = pd.read_csv(\"test.csv\")"
      ],
      "execution_count": null,
      "outputs": []
    },
    {
      "cell_type": "code",
      "metadata": {
        "id": "wyWupynZjnct",
        "colab": {
          "base_uri": "https://localhost:8080/",
          "height": 296
        },
        "outputId": "60fec132-e207-4f65-987b-3d954c17106b"
      },
      "source": [
        "# VISUALIZE DATA\n",
        "samples = mnist_train.iloc[5000:5030,1:].values\n",
        "plt.figure(figsize=(15,4.5))\n",
        "for i in range(30):\n",
        "    plt.subplot(3, 10, i+1)\n",
        "    plt.imshow(samples[i].reshape((28,28)),cmap=plt.cm.binary)\n",
        "    plt.axis('off')\n",
        "plt.subplots_adjust(wspace=-0.1, hspace=-0.1)\n",
        "plt.show()"
      ],
      "execution_count": null,
      "outputs": [
        {
          "output_type": "display_data",
          "data": {
            "image/png": "[encoded data removed]",
            "text/plain": [
              "<Figure size 1080x324 with 30 Axes>"
            ]
          },
          "metadata": {
            "tags": [],
            "needs_background": "light"
          }
        }
      ]
    },
    {
      "cell_type": "code",
      "metadata": {
        "id": "Iimq2fhujncy",
        "colab": {
          "base_uri": "https://localhost:8080/",
          "height": 233
        },
        "outputId": "dd55361f-51b3-4f30-8406-a61569325e2d"
      },
      "source": [
        "mnist_train.head()"
      ],
      "execution_count": null,
      "outputs": [
        {
          "output_type": "execute_result",
          "data": {
            "text/plain": [
              "   label  pixel0  pixel1  pixel2  pixel3  pixel4  pixel5  pixel6  pixel7  \\\n",
              "0      1       0       0       0       0       0       0       0       0   \n",
              "1      0       0       0       0       0       0       0       0       0   \n",
              "2      1       0       0       0       0       0       0       0       0   \n",
              "3      4       0       0       0       0       0       0       0       0   \n",
              "4      0       0       0       0       0       0       0       0       0   \n",
              "\n",
              "   pixel8  ...  pixel774  pixel775  pixel776  pixel777  pixel778  pixel779  \\\n",
              "0       0  ...         0         0         0         0         0         0   \n",
              "1       0  ...         0         0         0         0         0         0   \n",
              "2       0  ...         0         0         0         0         0         0   \n",
              "3       0  ...         0         0         0         0         0         0   \n",
              "4       0  ...         0         0         0         0         0         0   \n",
              "\n",
              "   pixel780  pixel781  pixel782  pixel783  \n",
              "0         0         0         0         0  \n",
              "1         0         0         0         0  \n",
              "2         0         0         0         0  \n",
              "3         0         0         0         0  \n",
              "4         0         0         0         0  \n",
              "\n",
              "[5 rows x 785 columns]"
            ],
            "text/html": [
              "<div>\n",
              "<style scoped>\n",
              "    .dataframe tbody tr th:only-of-type {\n",
              "        vertical-align: middle;\n",
              "    }\n",
              "\n",
              "    .dataframe tbody tr th {\n",
              "        vertical-align: top;\n",
              "    }\n",
              "\n",
              "    .dataframe thead th {\n",
              "        text-align: right;\n",
              "    }\n",
              "</style>\n",
              "<table border=\"1\" class=\"dataframe\">\n",
              "  <thead>\n",
              "    <tr style=\"text-align: right;\">\n",
              "      <th></th>\n",
              "      <th>label</th>\n",
              "      <th>pixel0</th>\n",
              "      <th>pixel1</th>\n",
              "      <th>pixel2</th>\n",
              "      <th>pixel3</th>\n",
              "      <th>pixel4</th>\n",
              "      <th>pixel5</th>\n",
              "      <th>pixel6</th>\n",
              "      <th>pixel7</th>\n",
              "      <th>pixel8</th>\n",
              "      <th>...</th>\n",
              "      <th>pixel774</th>\n",
              "      <th>pixel775</th>\n",
              "      <th>pixel776</th>\n",
              "      <th>pixel777</th>\n",
              "      <th>pixel778</th>\n",
              "      <th>pixel779</th>\n",
              "      <th>pixel780</th>\n",
              "      <th>pixel781</th>\n",
              "      <th>pixel782</th>\n",
              "      <th>pixel783</th>\n",
              "    </tr>\n",
              "  </thead>\n",
              "  <tbody>\n",
              "    <tr>\n",
              "      <th>0</th>\n",
              "      <td>1</td>\n",
              "      <td>0</td>\n",
              "      <td>0</td>\n",
              "      <td>0</td>\n",
              "      <td>0</td>\n",
              "      <td>0</td>\n",
              "      <td>0</td>\n",
              "      <td>0</td>\n",
              "      <td>0</td>\n",
              "      <td>0</td>\n",
              "      <td>...</td>\n",
              "      <td>0</td>\n",
              "      <td>0</td>\n",
              "      <td>0</td>\n",
              "      <td>0</td>\n",
              "      <td>0</td>\n",
              "      <td>0</td>\n",
              "      <td>0</td>\n",
              "      <td>0</td>\n",
              "      <td>0</td>\n",
              "      <td>0</td>\n",
              "    </tr>\n",
              "    <tr>\n",
              "      <th>1</th>\n",
              "      <td>0</td>\n",
              "      <td>0</td>\n",
              "      <td>0</td>\n",
              "      <td>0</td>\n",
              "      <td>0</td>\n",
              "      <td>0</td>\n",
              "      <td>0</td>\n",
              "      <td>0</td>\n",
              "      <td>0</td>\n",
              "      <td>0</td>\n",
              "      <td>...</td>\n",
              "      <td>0</td>\n",
              "      <td>0</td>\n",
              "      <td>0</td>\n",
              "      <td>0</td>\n",
              "      <td>0</td>\n",
              "      <td>0</td>\n",
              "      <td>0</td>\n",
              "      <td>0</td>\n",
              "      <td>0</td>\n",
              "      <td>0</td>\n",
              "    </tr>\n",
              "    <tr>\n",
              "      <th>2</th>\n",
              "      <td>1</td>\n",
              "      <td>0</td>\n",
              "      <td>0</td>\n",
              "      <td>0</td>\n",
              "      <td>0</td>\n",
              "      <td>0</td>\n",
              "      <td>0</td>\n",
              "      <td>0</td>\n",
              "      <td>0</td>\n",
              "      <td>0</td>\n",
              "      <td>...</td>\n",
              "      <td>0</td>\n",
              "      <td>0</td>\n",
              "      <td>0</td>\n",
              "      <td>0</td>\n",
              "      <td>0</td>\n",
              "      <td>0</td>\n",
              "      <td>0</td>\n",
              "      <td>0</td>\n",
              "      <td>0</td>\n",
              "      <td>0</td>\n",
              "    </tr>\n",
              "    <tr>\n",
              "      <th>3</th>\n",
              "      <td>4</td>\n",
              "      <td>0</td>\n",
              "      <td>0</td>\n",
              "      <td>0</td>\n",
              "      <td>0</td>\n",
              "      <td>0</td>\n",
              "      <td>0</td>\n",
              "      <td>0</td>\n",
              "      <td>0</td>\n",
              "      <td>0</td>\n",
              "      <td>...</td>\n",
              "      <td>0</td>\n",
              "      <td>0</td>\n",
              "      <td>0</td>\n",
              "      <td>0</td>\n",
              "      <td>0</td>\n",
              "      <td>0</td>\n",
              "      <td>0</td>\n",
              "      <td>0</td>\n",
              "      <td>0</td>\n",
              "      <td>0</td>\n",
              "    </tr>\n",
              "    <tr>\n",
              "      <th>4</th>\n",
              "      <td>0</td>\n",
              "      <td>0</td>\n",
              "      <td>0</td>\n",
              "      <td>0</td>\n",
              "      <td>0</td>\n",
              "      <td>0</td>\n",
              "      <td>0</td>\n",
              "      <td>0</td>\n",
              "      <td>0</td>\n",
              "      <td>0</td>\n",
              "      <td>...</td>\n",
              "      <td>0</td>\n",
              "      <td>0</td>\n",
              "      <td>0</td>\n",
              "      <td>0</td>\n",
              "      <td>0</td>\n",
              "      <td>0</td>\n",
              "      <td>0</td>\n",
              "      <td>0</td>\n",
              "      <td>0</td>\n",
              "      <td>0</td>\n",
              "    </tr>\n",
              "  </tbody>\n",
              "</table>\n",
              "<p>5 rows × 785 columns</p>\n",
              "</div>"
            ]
          },
          "metadata": {
            "tags": []
          },
          "execution_count": 6
        }
      ]
    },
    {
      "cell_type": "code",
      "metadata": {
        "id": "UPGj_WQ3jnc2",
        "colab": {
          "base_uri": "https://localhost:8080/",
          "height": 34
        },
        "outputId": "9f431644-0eff-468c-b064-3d04b8753841"
      },
      "source": [
        "print(mnist_train.shape, mnist_test.shape)"
      ],
      "execution_count": null,
      "outputs": [
        {
          "output_type": "stream",
          "text": [
            "((42000, 785), (28000, 784))\n"
          ],
          "name": "stdout"
        }
      ]
    },
    {
      "cell_type": "markdown",
      "metadata": {
        "id": "SVqVLjSqjnc7"
      },
      "source": [
        "### Check whether data is balanced or imbalanced"
      ]
    },
    {
      "cell_type": "code",
      "metadata": {
        "id": "7URCOLHdjnc8",
        "colab": {
          "base_uri": "https://localhost:8080/",
          "height": 265
        },
        "outputId": "a3e388d7-d4e6-463f-fb2e-394675052fdd"
      },
      "source": [
        "#%%timeit\n",
        "#345 ms\n",
        "_ = mnist_train['label'].value_counts().plot(kind='bar')\n",
        "plt.show()"
      ],
      "execution_count": null,
      "outputs": [
        {
          "output_type": "display_data",
          "data": {
            "image/png": "[encoded data removed]",
            "text/plain": [
              "<Figure size 432x288 with 1 Axes>"
            ]
          },
          "metadata": {
            "tags": [],
            "needs_background": "light"
          }
        }
      ]
    },
    {
      "cell_type": "markdown",
      "metadata": {
        "id": "d_3DwqUAjndF"
      },
      "source": [
        "From above figure one can conclude that dataset is balanced"
      ]
    },
    {
      "cell_type": "code",
      "metadata": {
        "id": "SotzWtYEjndG"
      },
      "source": [
        "#%%time\n",
        "#Wall time: 14.6 s\n",
        "X_raw = mnist_train.drop(['label'], axis = 1, inplace = False)\n",
        "y = mnist_train['label']"
      ],
      "execution_count": null,
      "outputs": []
    },
    {
      "cell_type": "code",
      "metadata": {
        "id": "tUicJ9ORjndK",
        "colab": {
          "base_uri": "https://localhost:8080/",
          "height": 51
        },
        "outputId": "f8f10abb-0ff0-42e8-c75f-4f6b049f6be3"
      },
      "source": [
        "#Data is being Scaled now to make it uniform\n",
        "#%%time\n",
        "# Wall time: 28.5 s\n",
        "arr = X_raw.values #returns a numpy array\n",
        "min_max_scaler = preprocessing.MinMaxScaler()\n",
        "x_scaled = min_max_scaler.fit_transform(arr)\n",
        "X = pd.DataFrame(x_scaled)"
      ],
      "execution_count": null,
      "outputs": [
        {
          "output_type": "stream",
          "text": [
            "/usr/local/lib/python2.7/dist-packages/sklearn/utils/validation.py:595: DataConversionWarning: Data with input dtype int64 was converted to float64 by MinMaxScaler.\n",
            "  warnings.warn(msg, DataConversionWarning)\n"
          ],
          "name": "stderr"
        }
      ]
    },
    {
      "cell_type": "code",
      "metadata": {
        "id": "Swc15OfLu0ko",
        "colab": {
          "base_uri": "https://localhost:8080/",
          "height": 1000
        },
        "outputId": "e7c169a4-557f-416d-be1b-a4ff5cf1aaf4"
      },
      "source": [
        "X.max()"
      ],
      "execution_count": null,
      "outputs": [
        {
          "output_type": "execute_result",
          "data": {
            "text/plain": [
              "0      0.0\n",
              "1      0.0\n",
              "2      0.0\n",
              "3      0.0\n",
              "4      0.0\n",
              "5      0.0\n",
              "6      0.0\n",
              "7      0.0\n",
              "8      0.0\n",
              "9      0.0\n",
              "10     0.0\n",
              "11     0.0\n",
              "12     1.0\n",
              "13     1.0\n",
              "14     1.0\n",
              "15     1.0\n",
              "16     0.0\n",
              "17     0.0\n",
              "18     0.0\n",
              "19     0.0\n",
              "20     0.0\n",
              "21     0.0\n",
              "22     0.0\n",
              "23     0.0\n",
              "24     0.0\n",
              "25     0.0\n",
              "26     0.0\n",
              "27     0.0\n",
              "28     0.0\n",
              "29     0.0\n",
              "      ... \n",
              "754    0.0\n",
              "755    0.0\n",
              "756    0.0\n",
              "757    0.0\n",
              "758    0.0\n",
              "759    0.0\n",
              "760    0.0\n",
              "761    1.0\n",
              "762    1.0\n",
              "763    1.0\n",
              "764    1.0\n",
              "765    1.0\n",
              "766    1.0\n",
              "767    1.0\n",
              "768    1.0\n",
              "769    1.0\n",
              "770    1.0\n",
              "771    1.0\n",
              "772    1.0\n",
              "773    1.0\n",
              "774    1.0\n",
              "775    1.0\n",
              "776    1.0\n",
              "777    1.0\n",
              "778    1.0\n",
              "779    1.0\n",
              "780    0.0\n",
              "781    0.0\n",
              "782    0.0\n",
              "783    0.0\n",
              "Length: 784, dtype: float64"
            ]
          },
          "metadata": {
            "tags": []
          },
          "execution_count": 11
        }
      ]
    },
    {
      "cell_type": "markdown",
      "metadata": {
        "id": "edESjYjreZ99"
      },
      "source": [
        "#Principal Component Analysis for data visualization\n",
        "\n",
        "we convert 784 dimensional data into 2 dimensional to visualize the data in 2D"
      ]
    },
    {
      "cell_type": "code",
      "metadata": {
        "id": "YGjvkvZhjndP"
      },
      "source": [
        "# %%timeit -n 3\n",
        "# 3 loops, best of 3: 1.66 s per loop\n",
        "pca = PCA(n_components = 2)\n",
        "principal_components = pca.fit_transform(X)\n",
        "principal_DF = pd.DataFrame(data = principal_components, columns = ['component1', 'component2'])\n",
        "final_DF = pd.concat( [principal_DF, mnist_train[['label']]], axis = 1)"
      ],
      "execution_count": null,
      "outputs": []
    },
    {
      "cell_type": "code",
      "metadata": {
        "id": "e8dPJTNGjndS",
        "outputId": "20448d1e-639c-4a15-f1bf-d5f76a6423b2"
      },
      "source": [
        "fig = plt.figure(figsize = (8,8))\n",
        "ax = plt.subplot(1,1,1)\n",
        "ax.set_xlabel('Principal Component 1', fontsize = 15)\n",
        "ax.set_ylabel('Principal Component 2', fontsize = 15)\n",
        "ax.set_title('2D visualization of MNIST Data using PCA', fontsize = 20)\n",
        "\n",
        "targets = list(mnist_train['label'].unique())\n",
        "random.seed(10)\n",
        "colors = []\n",
        "for i in range(10):\n",
        "    colors.append('#%06X' % randint(0, 0xFFFFFF))\n",
        "print(colors)\n",
        "for target, color in zip(targets,colors):\n",
        "    indicesToKeep = final_DF['label'] == target\n",
        "    ax.scatter(final_DF.loc[indicesToKeep, 'component1'], final_DF.loc[indicesToKeep,'component2'], c = color, s=50)\n",
        "ax.legend(targets)\n",
        "ax.grid()\n"
      ],
      "execution_count": null,
      "outputs": [
        {
          "output_type": "stream",
          "text": [
            "['#924770', '#6DCBAC', '#93FDCA', '#34C2DA', '#D035D2', '#D2D6B8', '#A749F9', '#2904CD', '#854A96', '#53E8EB']\n"
          ],
          "name": "stdout"
        },
        {
          "output_type": "display_data",
          "data": {
            "image/png": "[encoded data removed]",
            "text/plain": [
              "<Figure size 576x576 with 1 Axes>"
            ]
          },
          "metadata": {
            "tags": [],
            "needs_background": "light"
          }
        }
      ]
    },
    {
      "cell_type": "markdown",
      "metadata": {
        "id": "OazhJyjMfkud"
      },
      "source": [
        "From above figure it is obvious conclusion is that data is not seperable. However this is not the case as PCA has some drawbacks."
      ]
    },
    {
      "cell_type": "markdown",
      "metadata": {
        "id": "jPnbtItPjndV"
      },
      "source": [
        "# Next technique we try is t-SNE"
      ]
    },
    {
      "cell_type": "code",
      "metadata": {
        "id": "pPbLgzQojndV"
      },
      "source": [
        "%%time\n",
        "# Wall time: 1h 17min 10s\n",
        "tsneData = TSNE(random_state=10).fit_transform(X)"
      ],
      "execution_count": null,
      "outputs": []
    },
    {
      "cell_type": "code",
      "metadata": {
        "id": "QX1N_FWUjndb"
      },
      "source": [
        "def ScatterPlotTsne(X,y):\n",
        "    num_digits= len(np.unique(y))\n",
        "    palette = np.array(sns.color_palette(\"hls\", num_digits))\n",
        "    # create a scatter plot.\n",
        "    f = plt.figure(figsize=(8, 8))\n",
        "    ax = plt.subplot(aspect='equal')\n",
        "    sc = ax.scatter(X[:,0], X[:,1], lw=0, s=40, c=palette[y.astype(np.int)])\n",
        "    plt.xlim(-25, 25)\n",
        "    plt.ylim(-25, 25)\n",
        "    ax.axis('off')\n",
        "    ax.axis('tight')\n",
        "\n",
        "    txts = []\n",
        "    for i in range(num_digits):\n",
        "        xtext, ytext = np.median(X[y == i, :], axis = 0)\n",
        "        txt = ax.text(xtext, ytext, str(i), fontsize=24)\n",
        "        txt.set_path_effects([\n",
        "            path_effects.Stroke(linewidth=5, foreground=\"w\"),\n",
        "            path_effects.Normal()])\n",
        "        txts.append(txt)\n",
        "\n",
        "    return f, ax, sc, txts"
      ],
      "execution_count": null,
      "outputs": []
    },
    {
      "cell_type": "code",
      "metadata": {
        "id": "pm72ujm2jndf"
      },
      "source": [
        "ScatterPlotTsne(tsneData,y)"
      ],
      "execution_count": null,
      "outputs": []
    },
    {
      "cell_type": "markdown",
      "metadata": {
        "id": "M6gYsdiDjndi"
      },
      "source": [
        "#### From above figure we can say data is seperable as seperate clusters are formed for each digit"
      ]
    },
    {
      "cell_type": "markdown",
      "metadata": {
        "id": "lj2tGq2ljndj"
      },
      "source": [
        "#Divide data into 3 parts\n",
        "1. Train - To calculate nearest neighbors\n",
        "2. cross-validation: To find optimal value of k (Hyperparameter)\n",
        "3. Test: To test final accuracy of the model"
      ]
    },
    {
      "cell_type": "code",
      "metadata": {
        "id": "goFrRtOMjndj",
        "colab": {
          "base_uri": "https://localhost:8080/",
          "height": 54
        },
        "outputId": "f6d20412-95cd-4656-e64b-844953882823"
      },
      "source": [
        "X_1, X_test, y_1, y_test = train_test_split(X,y,test_size = 0.25, random_state = 10)\n",
        "X_train, X_cv, y_train, y_cv = train_test_split(X_1,y_1,test_size = 0.20, random_state = 10)\n",
        "print(X_train.shape, X_test.shape, X_cv. shape, y_train.shape, y_test.shape, y_cv.shape)"
      ],
      "execution_count": null,
      "outputs": [
        {
          "output_type": "stream",
          "text": [
            "((25200, 784), (10500, 784), (6300, 784), (25200,), (10500,), (6300,))\n"
          ],
          "name": "stdout"
        }
      ]
    },
    {
      "cell_type": "markdown",
      "metadata": {
        "id": "FqQm-evZjndm"
      },
      "source": [
        "# KNN Classifier"
      ]
    },
    {
      "cell_type": "code",
      "metadata": {
        "id": "lVF2veOSjndm"
      },
      "source": [
        "def trainKNN(X_train, y_train, k):\n",
        "    \"\"\"Function to train model using KNN classifier\n",
        "    Takes argumenst as training dataset, k-value and returns classifier\n",
        "    \"\"\"\n",
        "    classifier = KNeighborsClassifier(n_neighbors=k, n_jobs = -1)\n",
        "    classifier.fit(X_train,y_train)\n",
        "    return classifier"
      ],
      "execution_count": null,
      "outputs": []
    },
    {
      "cell_type": "code",
      "metadata": {
        "id": "sorJ-fEvjndp"
      },
      "source": [
        "def predictClassifier(X_test, classifier):\n",
        "    \"\"\"Function to predict labels using classifier\n",
        "       Takes argumenst as test/cv dataset, and returns predicted values by model\n",
        "    \"\"\"\n",
        "    y_pred = classifier.predict(X_test)\n",
        "    return y_pred"
      ],
      "execution_count": null,
      "outputs": []
    },
    {
      "cell_type": "code",
      "metadata": {
        "id": "02P_AS7vjndr"
      },
      "source": [
        "def calculateAccuracy(y_pred, y_test):\n",
        "    \"\"\"Function to check accuracy of the model. Takes input arguments as actual and predicted values\n",
        "       and returns accuracy score\n",
        "    \"\"\"\n",
        "    accuracy = accuracy_score(y_pred, y_test)\n",
        "    return accuracy"
      ],
      "execution_count": null,
      "outputs": []
    },
    {
      "cell_type": "code",
      "metadata": {
        "id": "YIRTg2G9jndu",
        "outputId": "4955119d-5b73-475a-a8d8-dd9e4ab1a9cc"
      },
      "source": [
        "#%%time\n",
        "# Wall time: 17min 52s\n",
        "kvalues = [x for x in range(1,50, 6)]\n",
        "AccuracyList = []\n",
        "for k in tqdm(kvalues):\n",
        "    knnClassifier = trainKNN(X_train, y_train, k)\n",
        "    y_pred = predictClassifier(X_cv, knnClassifier)\n",
        "    acc = calculateAccuracy(y_pred, y_cv)\n",
        "    AccuracyList.append(acc)"
      ],
      "execution_count": null,
      "outputs": [
        {
          "output_type": "stream",
          "text": [
            "100%|██████████| 9/9 [17:51<00:00, 118.83s/it]\n"
          ],
          "name": "stderr"
        },
        {
          "output_type": "stream",
          "text": [
            "Wall time: 17min 52s\n"
          ],
          "name": "stdout"
        }
      ]
    },
    {
      "cell_type": "code",
      "metadata": {
        "id": "LOD7jN5kjndy",
        "outputId": "ac33dcc4-6aff-44fb-c5c0-75102e4f6e59"
      },
      "source": [
        "AccuracyList"
      ],
      "execution_count": null,
      "outputs": [
        {
          "output_type": "execute_result",
          "data": {
            "text/plain": [
              "[0.9633333333333334,\n",
              " 0.9652380952380952,\n",
              " 0.9611111111111111,\n",
              " 0.9568253968253968,\n",
              " 0.9555555555555556,\n",
              " 0.9517460317460318,\n",
              " 0.947936507936508,\n",
              " 0.9457142857142857,\n",
              " 0.9442857142857143]"
            ]
          },
          "metadata": {
            "tags": []
          },
          "execution_count": 30
        }
      ]
    },
    {
      "cell_type": "code",
      "metadata": {
        "id": "hBvZPh4Zjnd1",
        "outputId": "b6bcb42f-c042-426c-b1cb-cc47b7d1b1c9"
      },
      "source": [
        "f = plt.figure(figsize = (4,4))\n",
        "ax = plt.subplot()\n",
        "plt.plot(kvalues,AccuracyList)\n",
        "ax.set_xlabel('K values', fontsize = 10)\n",
        "ax.set_ylabel('Accuracy', fontsize = 10)\n",
        "plt.show()"
      ],
      "execution_count": null,
      "outputs": [
        {
          "output_type": "display_data",
          "data": {
            "image/png": "[encoded data removed]",
            "text/plain": [
              "<Figure size 288x288 with 1 Axes>"
            ]
          },
          "metadata": {
            "tags": [],
            "needs_background": "light"
          }
        }
      ]
    },
    {
      "cell_type": "code",
      "metadata": {
        "scrolled": true,
        "id": "4fkdcEKgjnd4",
        "outputId": "7b20d45c-e923-4207-aa13-b2d87a70418d"
      },
      "source": [
        "#%%time\n",
        "# Wall time: 3min 49s\n",
        "clf = trainKNN(X_train,y_train, 7)\n",
        "y_pred = predictClassifier(X_test, knnClassifier)\n",
        "acc = calculateAccuracy(y_pred, y_test)\n",
        "print(\"Final Accuracy: \",acc)"
      ],
      "execution_count": null,
      "outputs": [
        {
          "output_type": "stream",
          "text": [
            "('Final Accuracy: ', 0.9406666666666667)\n",
            "Wall time: 3min 49s\n"
          ],
          "name": "stdout"
        }
      ]
    },
    {
      "cell_type": "code",
      "metadata": {
        "id": "wXmZ5Kdxjnd6",
        "outputId": "97846434-583d-4950-8f90-7b1863cb1521"
      },
      "source": [
        "num_digits= np.unique(y)\n",
        "cf = confusion_matrix(y_pred,y_test, labels = num_digits )\n",
        "print(\"################# Confusion Matrix ####################\")\n",
        "fig = plt.figure(figsize = (13,10))\n",
        "ax= plt.subplot()\n",
        "sns.heatmap(cf, annot=True, ax = ax); #annot=True to annotate cells\n"
      ],
      "execution_count": null,
      "outputs": [
        {
          "output_type": "stream",
          "text": [
            "################# Confusion Matrix ####################\n"
          ],
          "name": "stdout"
        },
        {
          "output_type": "display_data",
          "data": {
            "image/png": "[encoded data removed]",
            "text/plain": [
              "<Figure size 936x720 with 2 Axes>"
            ]
          },
          "metadata": {
            "tags": [],
            "needs_background": "light"
          }
        }
      ]
    },
    {
      "cell_type": "markdown",
      "metadata": {
        "id": "Q5J4f7Wtjnd8"
      },
      "source": [
        "# SVM Classifier\n",
        "GridSearch SVM Classifier One-vs-Rest\n",
        "\n",
        "*   List item\n",
        "*   List item\n"
      ]
    },
    {
      "cell_type": "code",
      "metadata": {
        "id": "ccnp0Y9hjnd9"
      },
      "source": [
        "params_grid = [{'kernel': ['rbf'], 'gamma': [1e-3, 1e-4],\n",
        "                     'C': [1, 10, 100, 1000]},\n",
        "                    {'kernel': ['linear'], 'C': [1, 10, 100, 1000]}]"
      ],
      "execution_count": null,
      "outputs": []
    },
    {
      "cell_type": "code",
      "metadata": {
        "id": "H5osRWMojnd_"
      },
      "source": [
        "%%time\n",
        "#Wall time: 8h 21min 8s\n",
        "svm_model = GridSearchCV(SVC(), params_grid, cv=5)\n",
        "svm_model.fit(X_1, y_1)"
      ],
      "execution_count": null,
      "outputs": []
    },
    {
      "cell_type": "code",
      "metadata": {
        "id": "U6h2rek-jneB"
      },
      "source": [
        "svm_model.best_estimator_"
      ],
      "execution_count": null,
      "outputs": []
    },
    {
      "cell_type": "code",
      "metadata": {
        "id": "JoNrQH8EjneE"
      },
      "source": [
        "svm_model.best_score_"
      ],
      "execution_count": null,
      "outputs": []
    },
    {
      "cell_type": "code",
      "metadata": {
        "id": "YG0VXMwxjneG"
      },
      "source": [
        "svm_model.cv_results_"
      ],
      "execution_count": null,
      "outputs": []
    },
    {
      "cell_type": "code",
      "metadata": {
        "id": "pSz7bUAjjneI"
      },
      "source": [
        "%%time\n",
        "#Wall time: 6min 14s\n",
        "bestModel = svm_model.best_estimator_\n",
        "bestModel.fit(X_train,y_train)\n",
        "yPred = bestModel.predict(X_test)\n",
        "accuracy = accuracy_score(y_test,yPred)"
      ],
      "execution_count": null,
      "outputs": []
    },
    {
      "cell_type": "code",
      "metadata": {
        "id": "rzSswHrejneK"
      },
      "source": [
        "print(\"svm accuracy = \",accuracy)"
      ],
      "execution_count": null,
      "outputs": []
    },
    {
      "cell_type": "markdown",
      "metadata": {
        "id": "E7wqIq9ljneN"
      },
      "source": [
        "#Logistic Regression"
      ]
    },
    {
      "cell_type": "code",
      "metadata": {
        "id": "6xA39fb_jneN",
        "colab": {
          "base_uri": "https://localhost:8080/",
          "height": 1000
        },
        "outputId": "a49e23d3-d771-414a-adea-f24873f8f66a"
      },
      "source": [
        "#%time\n",
        "logistic = LogisticRegression(solver='saga', tol=1e-3,n_jobs=2,multi_class = \"multinomial\")\n",
        "randVals = []\n",
        "for i in range(4):\n",
        "    randVals.append(random.uniform(0,4))\n",
        "distributions = dict(C=randVals, penalty=['l2', 'l1'])\n",
        "clf = RandomizedSearchCV(logistic, distributions, random_state=0, verbose = 1000)\n",
        "search = clf.fit(X_1, y_1)"
      ],
      "execution_count": null,
      "outputs": [
        {
          "output_type": "stream",
          "text": [
            "/usr/local/lib/python2.7/dist-packages/sklearn/model_selection/_split.py:2053: FutureWarning: You should specify a value for 'cv' instead of relying on the default value. The default value will change from 3 to 5 in version 0.22.\n",
            "  warnings.warn(CV_WARNING, FutureWarning)\n",
            "/usr/local/lib/python2.7/dist-packages/sklearn/model_selection/_search.py:271: UserWarning: The total space of parameters 8 is smaller than n_iter=10. Running 8 iterations. For exhaustive searches, use GridSearchCV.\n",
            "  % (grid_size, self.n_iter, grid_size), UserWarning)\n"
          ],
          "name": "stderr"
        },
        {
          "output_type": "stream",
          "text": [
            "Fitting 3 folds for each of 8 candidates, totalling 24 fits\n",
            "[Parallel(n_jobs=1)]: Using backend SequentialBackend with 1 concurrent workers.\n",
            "[CV] penalty=l2, C=0.0687378320373 ...................................\n",
            "[CV]  penalty=l2, C=0.0687378320373, score=0.919562113279, total=  39.2s\n",
            "[Parallel(n_jobs=1)]: Done   1 out of   1 | elapsed:   39.3s remaining:    0.0s\n",
            "[CV] penalty=l2, C=0.0687378320373 ...................................\n",
            "[CV]  penalty=l2, C=0.0687378320373, score=0.917611201067, total=  33.3s\n",
            "[Parallel(n_jobs=1)]: Done   2 out of   2 | elapsed:  1.2min remaining:    0.0s\n",
            "[CV] penalty=l2, C=0.0687378320373 ...................................\n",
            "[CV]  penalty=l2, C=0.0687378320373, score=0.915110518293, total=  34.4s\n",
            "[Parallel(n_jobs=1)]: Done   3 out of   3 | elapsed:  1.8min remaining:    0.0s\n",
            "[CV] penalty=l1, C=0.0687378320373 ...................................\n",
            "[CV]  penalty=l1, C=0.0687378320373, score=0.905473584008, total= 2.2min\n",
            "[Parallel(n_jobs=1)]: Done   4 out of   4 | elapsed:  4.0min remaining:    0.0s\n",
            "[CV] penalty=l1, C=0.0687378320373 ...................................\n",
            "[CV]  penalty=l1, C=0.0687378320373, score=0.900657205448, total= 2.2min\n",
            "[Parallel(n_jobs=1)]: Done   5 out of   5 | elapsed:  6.3min remaining:    0.0s\n",
            "[CV] penalty=l1, C=0.0687378320373 ...................................\n",
            "[CV]  penalty=l1, C=0.0687378320373, score=0.898723323171, total= 2.2min\n",
            "[Parallel(n_jobs=1)]: Done   6 out of   6 | elapsed:  8.5min remaining:    0.0s\n",
            "[CV] penalty=l2, C=0.47991975854 .....................................\n",
            "[CV]  penalty=l2, C=0.47991975854, score=0.919942884341, total= 1.5min\n",
            "[Parallel(n_jobs=1)]: Done   7 out of   7 | elapsed: 10.0min remaining:    0.0s\n",
            "[CV] penalty=l2, C=0.47991975854 .....................................\n",
            "[CV]  penalty=l2, C=0.47991975854, score=0.916563482236, total= 1.5min\n",
            "[Parallel(n_jobs=1)]: Done   8 out of   8 | elapsed: 11.6min remaining:    0.0s\n",
            "[CV] penalty=l2, C=0.47991975854 .....................................\n",
            "[CV] . penalty=l2, C=0.47991975854, score=0.91396722561, total= 1.5min\n",
            "[Parallel(n_jobs=1)]: Done   9 out of   9 | elapsed: 13.1min remaining:    0.0s\n",
            "[CV] penalty=l1, C=0.47991975854 .....................................\n",
            "[CV]  penalty=l1, C=0.47991975854, score=0.920894811994, total= 2.5min\n",
            "[Parallel(n_jobs=1)]: Done  10 out of  10 | elapsed: 15.6min remaining:    0.0s\n",
            "[CV] penalty=l1, C=0.47991975854 .....................................\n",
            "[CV]  penalty=l1, C=0.47991975854, score=0.915230021907, total= 2.5min\n",
            "[Parallel(n_jobs=1)]: Done  11 out of  11 | elapsed: 18.1min remaining:    0.0s\n",
            "[CV] penalty=l1, C=0.47991975854 .....................................\n",
            "[CV]  penalty=l1, C=0.47991975854, score=0.913395579268, total= 2.5min\n",
            "[Parallel(n_jobs=1)]: Done  12 out of  12 | elapsed: 20.6min remaining:    0.0s\n",
            "[CV] penalty=l2, C=1.86820189334 .....................................\n",
            "[CV] . penalty=l2, C=1.86820189334, score=0.91689671585, total= 1.5min\n",
            "[Parallel(n_jobs=1)]: Done  13 out of  13 | elapsed: 22.1min remaining:    0.0s\n",
            "[CV] penalty=l2, C=1.86820189334 .....................................\n",
            "[CV]  penalty=l2, C=1.86820189334, score=0.913420325745, total= 1.5min\n",
            "[Parallel(n_jobs=1)]: Done  14 out of  14 | elapsed: 23.6min remaining:    0.0s\n",
            "[CV] penalty=l2, C=1.86820189334 .....................................\n",
            "[CV]  penalty=l2, C=1.86820189334, score=0.910632621951, total= 1.5min\n",
            "[Parallel(n_jobs=1)]: Done  15 out of  15 | elapsed: 25.1min remaining:    0.0s\n",
            "[CV] penalty=l1, C=1.86820189334 .....................................\n",
            "[CV]  penalty=l1, C=1.86820189334, score=0.916801523084, total= 3.4min\n",
            "[Parallel(n_jobs=1)]: Done  16 out of  16 | elapsed: 28.5min remaining:    0.0s\n",
            "[CV] penalty=l1, C=1.86820189334 .....................................\n",
            "[CV]  penalty=l1, C=1.86820189334, score=0.913610820078, total= 3.5min\n",
            "[Parallel(n_jobs=1)]: Done  17 out of  17 | elapsed: 32.0min remaining:    0.0s\n",
            "[CV] penalty=l1, C=1.86820189334 .....................................\n",
            "[CV] . penalty=l1, C=1.86820189334, score=0.91034679878, total= 3.4min\n",
            "[Parallel(n_jobs=1)]: Done  18 out of  18 | elapsed: 35.4min remaining:    0.0s\n",
            "[CV] penalty=l2, C=3.86759744701 .....................................\n",
            "[CV]  penalty=l2, C=3.86759744701, score=0.915373631604, total= 1.5min\n",
            "[Parallel(n_jobs=1)]: Done  19 out of  19 | elapsed: 36.9min remaining:    0.0s\n",
            "[CV] penalty=l2, C=3.86759744701 .....................................\n",
            "[CV]  penalty=l2, C=3.86759744701, score=0.912182112582, total= 1.5min\n",
            "[Parallel(n_jobs=1)]: Done  20 out of  20 | elapsed: 38.4min remaining:    0.0s\n",
            "[CV] penalty=l2, C=3.86759744701 .....................................\n",
            "[CV] . penalty=l2, C=3.86759744701, score=0.90996570122, total= 1.5min\n",
            "[Parallel(n_jobs=1)]: Done  21 out of  21 | elapsed: 39.9min remaining:    0.0s\n",
            "[CV] penalty=l1, C=3.86759744701 .....................................\n",
            "[CV]  penalty=l1, C=3.86759744701, score=0.914040932889, total= 3.6min\n",
            "[Parallel(n_jobs=1)]: Done  22 out of  22 | elapsed: 43.5min remaining:    0.0s\n",
            "[CV] penalty=l1, C=3.86759744701 .....................................\n",
            "[CV]  penalty=l1, C=3.86759744701, score=0.910467663587, total= 3.5min\n",
            "[Parallel(n_jobs=1)]: Done  23 out of  23 | elapsed: 47.0min remaining:    0.0s\n",
            "[CV] penalty=l1, C=3.86759744701 .....................................\n",
            "[CV]  penalty=l1, C=3.86759744701, score=0.909584603659, total= 3.6min\n",
            "[Parallel(n_jobs=1)]: Done  24 out of  24 | elapsed: 50.6min remaining:    0.0s\n",
            "[Parallel(n_jobs=1)]: Done  24 out of  24 | elapsed: 50.6min finished\n"
          ],
          "name": "stdout"
        }
      ]
    },
    {
      "cell_type": "code",
      "metadata": {
        "id": "hR8qeMt8jneP",
        "colab": {
          "base_uri": "https://localhost:8080/",
          "height": 181
        },
        "outputId": "3f8926f1-96cb-45b5-cfe7-f8acb5d9f649"
      },
      "source": [
        "print(clf.best_estimator_)\n",
        "print(clf.best_score_)"
      ],
      "execution_count": null,
      "outputs": [
        {
          "output_type": "error",
          "ename": "NameError",
          "evalue": "ignored",
          "traceback": [
            "\u001b[0;31m\u001b[0m",
            "\u001b[0;31mNameError\u001b[0mTraceback (most recent call last)",
            "\u001b[0;32m<ipython-input-1-c54c64d2880e>\u001b[0m in \u001b[0;36m<module>\u001b[0;34m()\u001b[0m\n\u001b[0;32m----> 1\u001b[0;31m \u001b[0;32mprint\u001b[0m\u001b[0;34m(\u001b[0m\u001b[0mclf\u001b[0m\u001b[0;34m.\u001b[0m\u001b[0mbest_estimator_\u001b[0m\u001b[0;34m)\u001b[0m\u001b[0;34m\u001b[0m\u001b[0m\n\u001b[0m\u001b[1;32m      2\u001b[0m \u001b[0;32mprint\u001b[0m\u001b[0;34m(\u001b[0m\u001b[0mclf\u001b[0m\u001b[0;34m.\u001b[0m\u001b[0mbest_score_\u001b[0m\u001b[0;34m)\u001b[0m\u001b[0;34m\u001b[0m\u001b[0m\n",
            "\u001b[0;31mNameError\u001b[0m: name 'clf' is not defined"
          ]
        }
      ]
    },
    {
      "cell_type": "code",
      "metadata": {
        "id": "Tnd3HH_5jneQ",
        "colab": {
          "base_uri": "https://localhost:8080/"
        },
        "outputId": "42ce16d1-9a40-4097-eab1-aee9a6dbc339"
      },
      "source": [
        "#%%time\n",
        "# Wall time: 2min 50s\n",
        "best_clf = clf.best_estimator_\n",
        "best_clf.fit(X_1,y_1)"
      ],
      "execution_count": null,
      "outputs": [
        {
          "output_type": "execute_result",
          "data": {
            "text/plain": [
              "LogisticRegression(C=0.0687378320373, class_weight=None, dual=False,\n",
              "          fit_intercept=True, intercept_scaling=1, max_iter=100,\n",
              "          multi_class='multinomial', n_jobs=2, penalty='l2',\n",
              "          random_state=None, solver='saga', tol=0.001, verbose=0,\n",
              "          warm_start=False)"
            ]
          },
          "metadata": {
            "tags": []
          },
          "execution_count": 28
        }
      ]
    },
    {
      "cell_type": "code",
      "metadata": {
        "id": "iTeYsfa0jneS",
        "colab": {
          "base_uri": "https://localhost:8080/"
        },
        "outputId": "7e75de72-f715-4429-f4b1-f5edebc7ad9b"
      },
      "source": [
        "#%%time\n",
        "y_predLR = best_clf.predict(X_test)\n",
        "acc = accuracy_score(y_test,y_predLR)\n",
        "print(acc)"
      ],
      "execution_count": null,
      "outputs": [
        {
          "output_type": "stream",
          "text": [
            "0.916\n"
          ],
          "name": "stdout"
        }
      ]
    },
    {
      "cell_type": "markdown",
      "metadata": {
        "id": "1haHZb0xjneU"
      },
      "source": [
        "#Decision Tress Classifier"
      ]
    },
    {
      "cell_type": "code",
      "metadata": {
        "id": "kQ3FItOhjneV",
        "colab": {
          "base_uri": "https://localhost:8080/",
          "height": 68
        },
        "outputId": "f231b8b6-fb69-4b7b-853f-02c0086ddfd6"
      },
      "source": [
        "#%%time\n",
        "# Wall time: 1min 54s\n",
        "maxDepth = [4,6,8,10,12,15,20,30,50,80, 120]\n",
        "trainAcc = []\n",
        "CVAcc = []\n",
        "for depth in tqdm(maxDepth):\n",
        "    clfDT = DecisionTreeClassifier(criterion='gini',max_depth = depth)\n",
        "    clfDT.fit(X_train, y_train)\n",
        "    y_predDTtrain = clfDT.predict(X_train)\n",
        "    y_predDTcv = clfDT.predict(X_cv)\n",
        "    accTr = accuracy_score(y_train, y_predDTtrain)\n",
        "    accCv = accuracy_score(y_cv, y_predDTcv)\n",
        "    trainAcc.append(accTr)\n",
        "    CVAcc.append(accCv)"
      ],
      "execution_count": null,
      "outputs": [
        {
          "output_type": "stream",
          "text": [
            "100%|██████████| 11/11 [00:56<00:00,  6.63s/it]"
          ],
          "name": "stderr"
        },
        {
          "output_type": "stream",
          "text": [
            "CPU times: user 56.5 s, sys: 76.8 ms, total: 56.5 s\n",
            "Wall time: 56.6 s\n"
          ],
          "name": "stdout"
        },
        {
          "output_type": "stream",
          "text": [
            "\n"
          ],
          "name": "stderr"
        }
      ]
    },
    {
      "cell_type": "code",
      "metadata": {
        "id": "SOWXQ2x9jneX",
        "colab": {
          "base_uri": "https://localhost:8080/",
          "height": 51
        },
        "outputId": "c6c967ec-1aac-43d6-a683-05237fb6a35c"
      },
      "source": [
        "print(trainAcc)\n",
        "print(CVAcc)"
      ],
      "execution_count": null,
      "outputs": [
        {
          "output_type": "stream",
          "text": [
            "[0.6329761904761905, 0.7385714285714285, 0.8384920634920635, 0.9097222222222222, 0.9556349206349206, 0.9851190476190477, 0.9958333333333333, 0.9993253968253968, 1.0, 1.0, 1.0]\n",
            "[0.6395238095238095, 0.74, 0.8131746031746032, 0.8436507936507937, 0.8484126984126984, 0.8539682539682539, 0.8525396825396825, 0.8488888888888889, 0.849047619047619, 0.8468253968253968, 0.8523809523809524]\n"
          ],
          "name": "stdout"
        }
      ]
    },
    {
      "cell_type": "code",
      "metadata": {
        "id": "OCY1RcP0jneZ"
      },
      "source": [
        "def plotCVandTrainAccuracyAndError(CVAcc,trainAcc,maxDepth):\n",
        "    fig = plt.figure(figsize = (10,5))\n",
        "    ax = plt.subplot(1,2,1)\n",
        "    ax.set_xlabel('Maximum Depth', fontsize = 10)\n",
        "    ax.set_ylabel('Accuracy', fontsize = 10)\n",
        "    ax.set_title('Check fitting of model', fontsize = 10)\n",
        "\n",
        "    plt.plot(maxDepth,CVAcc,label='CV Accuracy')\n",
        "    plt.plot(maxDepth,trainAcc,label='train Accuracy')\n",
        "    ax.legend()\n",
        "\n",
        "    trainError = [1-x for x in trainAcc]\n",
        "    CVError    = [1-x for x in CVAcc]\n",
        "    ax = plt.subplot(1,2,2)\n",
        "    ax.set_xlabel('Maximum Depth', fontsize = 10)\n",
        "    ax.set_ylabel('Error', fontsize = 10)\n",
        "    ax.set_title('Check fitting of model', fontsize = 10)\n",
        "\n",
        "    plt.plot(maxDepth,CVError,label='CV Error')\n",
        "    plt.plot(maxDepth,trainError,label='train Error')\n",
        "    ax.legend()"
      ],
      "execution_count": null,
      "outputs": []
    },
    {
      "cell_type": "code",
      "metadata": {
        "id": "bleZ98F-jneb",
        "colab": {
          "base_uri": "https://localhost:8080/",
          "height": 348
        },
        "outputId": "6c58b203-ef25-42aa-8bcf-35ac5990b6bc"
      },
      "source": [
        "plotCVandTrainAccuracyAndError(CVAcc,trainAcc,maxDepth)"
      ],
      "execution_count": null,
      "outputs": [
        {
          "output_type": "display_data",
          "data": {
            "image/png": "[encoded data removed]",
            "text/plain": [
              "<Figure size 720x360 with 2 Axes>"
            ]
          },
          "metadata": {
            "tags": [],
            "needs_background": "light"
          }
        }
      ]
    },
    {
      "cell_type": "code",
      "metadata": {
        "id": "pBRsAfzUjnee",
        "colab": {
          "base_uri": "https://localhost:8080/",
          "height": 34
        },
        "outputId": "037eb92f-6114-4d76-dff1-314a440e8392"
      },
      "source": [
        "clfDT = DecisionTreeClassifier(criterion='gini',max_depth = 15)\n",
        "clfDT.fit(X_train, y_train)\n",
        "y_pred = clfDT.predict(X_test)\n",
        "\n",
        "print(\"Final Accuracy DT: \",accuracy_score(y_test,y_pred))"
      ],
      "execution_count": null,
      "outputs": [
        {
          "output_type": "stream",
          "text": [
            "('Final Accuracy DT: ', 0.848)\n"
          ],
          "name": "stdout"
        }
      ]
    },
    {
      "cell_type": "markdown",
      "metadata": {
        "id": "2fNdiNjwjneh"
      },
      "source": [
        "#Random Forest Classifier\n"
      ]
    },
    {
      "cell_type": "code",
      "metadata": {
        "id": "vrDO3ncejneh"
      },
      "source": [
        "NoEstimators = [5,50,100,200,400,1000] # [10,20,50,70,100,130,150,190,230,290,370,450,550,700] #[100,105,110,115,120,125]\n",
        "trainAcc = []\n",
        "CVAcc = []"
      ],
      "execution_count": null,
      "outputs": []
    },
    {
      "cell_type": "code",
      "metadata": {
        "id": "xkcXY1KMjnej",
        "colab": {
          "base_uri": "https://localhost:8080/",
          "height": 34
        },
        "outputId": "ec1da90a-9e2f-4121-ae86-7b987342f5bd"
      },
      "source": [
        "for est in tqdm(NoEstimators):\n",
        "    clfRF = RandomForestClassifier(n_estimators=est, criterion='gini')\n",
        "    clfRF.fit(X_train, y_train)\n",
        "    y_predRFtrain = clfRF.predict(X_train)\n",
        "    y_predRFcv = clfRF.predict(X_cv)\n",
        "    accTr = accuracy_score(y_train, y_predRFtrain)\n",
        "    accCv = accuracy_score(y_cv, y_predRFcv)\n",
        "    trainAcc.append(accTr)\n",
        "    CVAcc.append(accCv)"
      ],
      "execution_count": null,
      "outputs": [
        {
          "output_type": "stream",
          "text": [
            "100%|██████████| 6/6 [05:11<00:00, 75.92s/it]\n"
          ],
          "name": "stderr"
        }
      ]
    },
    {
      "cell_type": "code",
      "metadata": {
        "id": "Si60VCxF1gSC",
        "colab": {
          "base_uri": "https://localhost:8080/",
          "height": 198
        },
        "outputId": "12c27965-772c-4883-d949-f5ab70675d3d"
      },
      "source": [
        "print(NoEstimators)\n",
        "print(trainAcc)\n",
        "print(CVAcc)"
      ],
      "execution_count": null,
      "outputs": [
        {
          "output_type": "error",
          "ename": "NameError",
          "evalue": "ignored",
          "traceback": [
            "\u001b[0;31m\u001b[0m",
            "\u001b[0;31mNameError\u001b[0mTraceback (most recent call last)",
            "\u001b[0;32m<ipython-input-1-0e3bf19ec7e4>\u001b[0m in \u001b[0;36m<module>\u001b[0;34m()\u001b[0m\n\u001b[0;32m----> 1\u001b[0;31m \u001b[0;32mprint\u001b[0m\u001b[0;34m(\u001b[0m\u001b[0mNoEstimators\u001b[0m\u001b[0;34m)\u001b[0m\u001b[0;34m\u001b[0m\u001b[0m\n\u001b[0m\u001b[1;32m      2\u001b[0m \u001b[0;32mprint\u001b[0m\u001b[0;34m(\u001b[0m\u001b[0mtrainAcc\u001b[0m\u001b[0;34m)\u001b[0m\u001b[0;34m\u001b[0m\u001b[0m\n\u001b[1;32m      3\u001b[0m \u001b[0;32mprint\u001b[0m\u001b[0;34m(\u001b[0m\u001b[0mCVAcc\u001b[0m\u001b[0;34m)\u001b[0m\u001b[0;34m\u001b[0m\u001b[0m\n",
            "\u001b[0;31mNameError\u001b[0m: name 'NoEstimators' is not defined"
          ]
        }
      ]
    },
    {
      "cell_type": "code",
      "metadata": {
        "id": "Uzr0rJ6d14xW"
      },
      "source": [
        "def plotCVandTrainAccuracyAndErrorEstimators(CVAcc,trainAcc,NoEstimators):\n",
        "    fig = plt.figure(figsize = (10,5))\n",
        "    ax = plt.subplot(1,2,1)\n",
        "    ax.set_xlabel('No of Estimators', fontsize = 10)\n",
        "    ax.set_ylabel('Accuracy', fontsize = 10)\n",
        "    ax.set_title('Check fitting of model', fontsize = 10)\n",
        "\n",
        "    plt.plot(maxDepth,CVAcc,label='CV Accuracy')\n",
        "    plt.plot(maxDepth,trainAcc,label='train Accuracy')\n",
        "    ax.legend()\n",
        "\n",
        "    trainError = [1-x for x in trainAcc]\n",
        "    CVError    = [1-x for x in CVAcc]\n",
        "    ax = plt.subplot(1,2,2)\n",
        "    ax.set_xlabel('No of Estimators', fontsize = 10)\n",
        "    ax.set_ylabel('Error', fontsize = 10)\n",
        "    ax.set_title('Check fitting of model', fontsize = 10)\n",
        "\n",
        "    plt.plot(maxDepth,CVError,label='CV Error')\n",
        "    plt.plot(maxDepth,trainError,label='train Error')\n",
        "    ax.legend()"
      ],
      "execution_count": null,
      "outputs": []
    },
    {
      "cell_type": "code",
      "metadata": {
        "id": "_GDQtmNDjnel",
        "colab": {
          "base_uri": "https://localhost:8080/",
          "height": 348
        },
        "outputId": "5f491c42-ec52-4a78-9f33-704ff98e3ca8"
      },
      "source": [
        "plotCVandTrainAccuracyAndErrorEstimators(CVAcc,trainAcc,NoEstimators)"
      ],
      "execution_count": null,
      "outputs": [
        {
          "output_type": "display_data",
          "data": {
            "image/png": "[encoded data removed]",
            "text/plain": [
              "<Figure size 720x360 with 2 Axes>"
            ]
          },
          "metadata": {
            "tags": [],
            "needs_background": "light"
          }
        }
      ]
    },
    {
      "cell_type": "code",
      "metadata": {
        "id": "OjqXRhNDjneo",
        "colab": {
          "base_uri": "https://localhost:8080/",
          "height": 34
        },
        "outputId": "1f39b8d3-1661-4711-fb8e-86b618f2ab20"
      },
      "source": [
        "maxAccuracy = max(CVAcc)\n",
        "maxAccuracy"
      ],
      "execution_count": null,
      "outputs": [
        {
          "output_type": "execute_result",
          "data": {
            "text/plain": [
              "0.9663492063492064"
            ]
          },
          "metadata": {
            "tags": []
          },
          "execution_count": 24
        }
      ]
    },
    {
      "cell_type": "code",
      "metadata": {
        "id": "M1p8Y_wxjnep",
        "colab": {
          "base_uri": "https://localhost:8080/",
          "height": 34
        },
        "outputId": "27032e6a-5d39-488b-8cd5-42c6710c69f3"
      },
      "source": [
        "clfRF = RandomForestClassifier(n_estimators=370, criterion='gini')\n",
        "clfRF.fit(X_train, y_train)\n",
        "y_predRF = clfRF.predict(X_test)\n",
        "print(\"Final Accuracy RF: \",accuracy_score(y_test,y_predRF))"
      ],
      "execution_count": null,
      "outputs": [
        {
          "output_type": "stream",
          "text": [
            "('Final Accuracy RF: ', 0.9627619047619047)\n"
          ],
          "name": "stdout"
        }
      ]
    },
    {
      "cell_type": "markdown",
      "metadata": {
        "id": "cDl7xC25jner"
      },
      "source": [
        "#XGBOOST"
      ]
    },
    {
      "cell_type": "code",
      "metadata": {
        "id": "wqHk-PQYjner"
      },
      "source": [
        "!pip install xgboost"
      ],
      "execution_count": null,
      "outputs": []
    },
    {
      "cell_type": "code",
      "metadata": {
        "id": "ZE3mNriijnet"
      },
      "source": [
        "etaVals = [0.1,0.3,0.5,0.6,0.8,0.9] # Shrinkage parameter as hyperparameter\n",
        "#max_depth parameter we are changing as we know increasing this value may turn model into overfit\n",
        "trainAcc = []\n",
        "CVAcc = []\n",
        "for e in etaVals:\n",
        "    model = XGBClassifier(eta = e, nthread = 2)\n",
        "    model.fit(X_train,y_train)\n",
        "    y_predXGtrain = model.predict(X_train)\n",
        "    y_predXGcv = model.predict(X_cv)\n",
        "    accTr = accuracy_score(y_train, y_predXGtrain)\n",
        "    accCv = accuracy_score(y_cv, y_predXGcv)\n",
        "    trainAcc.append(accTr)\n",
        "    CVAcc.append(accCv)"
      ],
      "execution_count": null,
      "outputs": []
    },
    {
      "cell_type": "code",
      "metadata": {
        "id": "g2RbxZv3jnev"
      },
      "source": [
        "plotCVandTrainAccuracyAndError(CVAcc,trainAcc,etaVals)"
      ],
      "execution_count": null,
      "outputs": []
    },
    {
      "cell_type": "code",
      "metadata": {
        "id": "JcxVJT-Wjnew"
      },
      "source": [
        "def plotTestandTrainAccuracyAndError(TestAcc,trainAcc,maxDepth):\n",
        "    fig = plt.figure(figsize = (10,5))\n",
        "    ax = plt.subplot(1,2,1)\n",
        "    ax.set_xlabel('Maximum Depth', fontsize = 10)\n",
        "    ax.set_ylabel('Accuracy', fontsize = 10)\n",
        "    ax.set_title('Check fitting of model', fontsize = 10)\n",
        "\n",
        "    plt.plot(maxDepth,TestAcc,label='Test Accuracy')\n",
        "    plt.plot(maxDepth,trainAcc,label='train Accuracy')\n",
        "    ax.legend()\n",
        "\n",
        "    trainError = [1-x for x in trainAcc]\n",
        "    TestError    = [1-x for x in TestAcc]\n",
        "    ax = plt.subplot(1,2,2)\n",
        "    ax.set_xlabel('Maximum Depth', fontsize = 10)\n",
        "    ax.set_ylabel('Error', fontsize = 10)\n",
        "    ax.set_title('Check fitting of model', fontsize = 10)\n",
        "\n",
        "    plt.plot(maxDepth,TestError,label='Test Error')\n",
        "    plt.plot(maxDepth,trainError,label='train Error')\n",
        "    ax.legend()"
      ],
      "execution_count": null,
      "outputs": []
    },
    {
      "cell_type": "code",
      "metadata": {
        "id": "jkiqA4qajney"
      },
      "source": [
        "TestAcc = []\n",
        "for e in tqdm(etaVals):\n",
        "    model = XGBClassifier(eta = e, nthread = 2)\n",
        "    model.fit(X_train,y_train)\n",
        "    y_predXGTest = model.predict(X_test)\n",
        "    accTest = accuracy_score(y_test, y_predXGTest)\n",
        "    TestAcc.append(accTest)\n",
        "\n",
        "plotTestandTrainAccuracyAndError(TestAcc,trainAcc,etaVals)"
      ],
      "execution_count": null,
      "outputs": []
    },
    {
      "cell_type": "markdown",
      "metadata": {
        "id": "dnQacr_Ajne0"
      },
      "source": [
        "# Final Accuracies\n",
        "    1. KNN                   0.94066  \n",
        "    2. Logistic Regression   0.9125\n",
        "    3. SVM                   0.95819\n",
        "    4. Decision Tree         0.84923\n",
        "    5. Random Forest         0.964\n",
        "    6. XGBOOST               0.9325"
      ]
    },
    {
      "cell_type": "code",
      "metadata": {
        "id": "zgT1X2O7jne0"
      },
      "source": [],
      "execution_count": null,
      "outputs": []
    }
  ]
}